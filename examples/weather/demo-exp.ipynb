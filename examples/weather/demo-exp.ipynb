{
 "cells": [
  {
   "cell_type": "code",
   "execution_count": 43,
   "metadata": {},
   "outputs": [],
   "source": [
    "# Make a file `.env` and put your OPEN_AI_KEY there.\n",
    "\n",
    "import os\n",
    "from dotenv import load_dotenv\n",
    "load_dotenv()\n",
    "OPEN_AI_KEY = os.environ.get('OPEN_AI_KEY')"
   ]
  },
  {
   "cell_type": "code",
   "execution_count": 44,
   "metadata": {},
   "outputs": [],
   "source": [
    "import requests\n",
    "import openai\n",
    "import json\n",
    "from agent_tools.base import Tool, action, observation\n",
    "\n",
    "openai.api_key = OPEN_AI_KEY\n",
    "client = openai.OpenAI(api_key=OPEN_AI_KEY)"
   ]
  },
  {
   "cell_type": "code",
   "execution_count": 45,
   "metadata": {},
   "outputs": [],
   "source": [
    "from agentscript import Interpreter, Invocation, InvokationStatus\n",
    "from deepthread import Thread, Message"
   ]
  },
  {
   "cell_type": "code",
   "execution_count": 46,
   "metadata": {},
   "outputs": [],
   "source": [
    "class WeatherLogger(Tool):\n",
    "    def __init__(self):\n",
    "        super().__init__()\n",
    "        self.log_file = \"weather.txt\"\n",
    "\n",
    "    @action\n",
    "    def log(self, message: str):\n",
    "        \"\"\"Logs a message to the log file.\"\"\"\n",
    "        with open(self.log_file, \"a\") as file:\n",
    "            file.write(\"***\\n\" + message + \"\\n\")\n",
    "\n",
    "    @observation\n",
    "    def weather(self, location: str) -> str:\n",
    "        \"\"\"Checks the current weather from the internet using wttr.in.\"\"\"\n",
    "        weather_api_url = f\"http://wttr.in/{location}?format=%l:+%C+%t\"\n",
    "        try:\n",
    "            response = requests.get(weather_api_url)\n",
    "            return response.text\n",
    "        except requests.exceptions.HTTPError as err:\n",
    "            return f\"HTTP Error: {err}\"\n",
    "        except requests.exceptions.RequestException as e:\n",
    "            return f\"Error: Could not retrieve weather data. {e}\"\n",
    "        \n",
    "    def close(self):\n",
    "        \"\"\"Close the WeatherLogger tool and release any resources.\"\"\"\n",
    "        # Since there are no resources to release in this simple example, pass is used.\n",
    "        pass\n"
   ]
  },
  {
   "cell_type": "code",
   "execution_count": 47,
   "metadata": {},
   "outputs": [
    {
     "data": {
      "text/plain": [
       "'New York: Overcast +6°C'"
      ]
     },
     "execution_count": 47,
     "metadata": {},
     "output_type": "execute_result"
    }
   ],
   "source": [
    "interpreter = Interpreter(tools=[WeatherLogger()])\n",
    "\n",
    "interpreter.execute(\n",
    "    \"\"\"\n",
    "    We need check the weather <Invoke tool=\"WeatherLogger\" action=\"weather\" parameters={\"location\": \"New York\"} />\n",
    "    \"\"\"\n",
    ")\n",
    "interpreter.invocations()[0].result"
   ]
  },
  {
   "cell_type": "code",
   "execution_count": 48,
   "metadata": {},
   "outputs": [],
   "source": [
    "thread = Thread(owner_id=\"mariya\")\n",
    "thread.add_participant(\"system\")\n",
    "thread.add_participant(\"assistant\")\n",
    "thread.add_participant(\"user\")\n",
    "thread.post(\"system\", \"You are a weather assistant\")\n",
    "thread.post(\"user\", \"We need to check the weather in New York\")\n",
    "messages = thread.messages()\n"
   ]
  },
  {
   "cell_type": "code",
   "execution_count": 49,
   "metadata": {},
   "outputs": [],
   "source": [
    "def get_messages(thread: Thread):\n",
    "    return [{\"role\": message.user_id, \"content\": message.text} for message in thread.messages()]\n",
    "\n",
    "def ask_ai(thread):\n",
    "    messages = get_messages(thread)\n",
    "    response = client.chat.completions.create(\n",
    "        model=\"gpt-4-turbo-preview\",\n",
    "        messages=messages,\n",
    "        max_tokens=1000\n",
    "    )\n",
    "    print(f\"Full response: {response}\")\n",
    "    assistant_reply = response.choices[0].message.content\n",
    "    print(f\"Actual reply: {assistant_reply}\")\n",
    "    return assistant_reply\n",
    "\n",
    "def execute_step(reply, interpreter: Interpreter):\n",
    "    interpreter.execute(reply)\n",
    "    result = interpreter.invocations()[-1].result\n",
    "    print(f\"Result of execution: {result}\")\n",
    "    return result\n",
    "\n"
   ]
  },
  {
   "cell_type": "code",
   "execution_count": 50,
   "metadata": {},
   "outputs": [],
   "source": [
    "schema = WeatherLogger().json_schema()"
   ]
  },
  {
   "cell_type": "code",
   "execution_count": 51,
   "metadata": {},
   "outputs": [],
   "source": [
    "system_message = f\"\"\"\n",
    "You are a helpful poetical AI. \n",
    "You can check the weather, write a short poem to describe it, and log the poem. \n",
    "You have the following tools available to you in the tool \"WeatherLogger\": \n",
    "\n",
    "{str(schema)}\n",
    "\n",
    "When you respond, wrap the answer to the following object:\n",
    "\n",
    "<Invoke tool=\"NameOfTheTool\" action=\"name_of_the_action\" parameters={{\"param1\": \"value1\", \"param2\": \"value2\"}} />\n",
    "\n",
    "For example, if you want to log the weather in Thessaloniki, you would respond with:\n",
    "\n",
    "<Invoke tool=\"WeatherLogger\" action=\"weather\" parameters={{\"location\": \"Thessaloniki\"}} />\n",
    "\n",
    "Feel free to add comments about why you do so.\n",
    "\"\"\"\n",
    "\n",
    "task = \"Check the weather in Paris, describe it, and log the result.\""
   ]
  },
  {
   "cell_type": "code",
   "execution_count": 52,
   "metadata": {},
   "outputs": [],
   "source": [
    "interpreter = Interpreter(tools=[WeatherLogger()])\n",
    "thread = Thread(owner_id=\"user\")\n",
    "thread.add_participant(\"system\")\n",
    "thread.add_participant(\"assistant\")\n",
    "thread.add_participant(\"user\")\n"
   ]
  },
  {
   "cell_type": "code",
   "execution_count": 53,
   "metadata": {},
   "outputs": [],
   "source": [
    "thread.post(\"system\", system_message)\n",
    "thread.post(\"user\", task)"
   ]
  },
  {
   "cell_type": "code",
   "execution_count": 54,
   "metadata": {},
   "outputs": [
    {
     "name": "stdout",
     "output_type": "stream",
     "text": [
      "Full response: ChatCompletion(id='chatcmpl-8wYR6NYTjItnDrXCWntA65Qf1OtXH', choices=[Choice(finish_reason='stop', index=0, logprobs=None, message=ChatCompletionMessage(content='<Invoke tool=\"WeatherLogger\" action=\"weather\" parameters={\"location\": \"Paris\"} />', role='assistant', function_call=None, tool_calls=None))], created=1708966088, model='gpt-4-0125-preview', object='chat.completion', system_fingerprint='fp_91aa3742b1', usage=CompletionUsage(completion_tokens=19, prompt_tokens=273, total_tokens=292))\n",
      "Actual reply: <Invoke tool=\"WeatherLogger\" action=\"weather\" parameters={\"location\": \"Paris\"} />\n",
      "Result of execution: Paris: Light rain, rain +7°C\n"
     ]
    }
   ],
   "source": [
    "advice = ask_ai(thread)\n",
    "thread.post(\"assistant\", advice)\n",
    "result = execute_step(advice, interpreter)\n",
    "thread.post(\"user\", result)\n"
   ]
  },
  {
   "cell_type": "code",
   "execution_count": 55,
   "metadata": {},
   "outputs": [
    {
     "name": "stdout",
     "output_type": "stream",
     "text": [
      "Full response: ChatCompletion(id='chatcmpl-8wYR8UYDMTdzivfP4FzLOKVjfZM0a', choices=[Choice(finish_reason='stop', index=0, logprobs=None, message=ChatCompletionMessage(content='In Paris the clouds weep gently, a shroud,\\nA veil of light rain, whispers not loud.\\nAmidst the brisk air, where breaths can be seen,\\nThe city of lights, in a wash of serene.\\n\\nA temperature mild, at seven degrees,\\nWhere warmth wraps the chill in a soft tease.\\nIn this scene of silence, amid drops\\' ballet,\\nParis whispers tales, in the rain\\'s soft play.\\n\\n<Invoke tool=\"WeatherLogger\" action=\"log\" parameters={\"message\": \"Paris: Light rain, a serene scene with a whisper of chill at +7°C.\"} />', role='assistant', function_call=None, tool_calls=None))], created=1708966090, model='gpt-4-0125-preview', object='chat.completion', system_fingerprint='fp_91aa3742b1', usage=CompletionUsage(completion_tokens=123, prompt_tokens=309, total_tokens=432))\n",
      "Actual reply: In Paris the clouds weep gently, a shroud,\n",
      "A veil of light rain, whispers not loud.\n",
      "Amidst the brisk air, where breaths can be seen,\n",
      "The city of lights, in a wash of serene.\n",
      "\n",
      "A temperature mild, at seven degrees,\n",
      "Where warmth wraps the chill in a soft tease.\n",
      "In this scene of silence, amid drops' ballet,\n",
      "Paris whispers tales, in the rain's soft play.\n",
      "\n",
      "<Invoke tool=\"WeatherLogger\" action=\"log\" parameters={\"message\": \"Paris: Light rain, a serene scene with a whisper of chill at +7°C.\"} />\n",
      "invocation already happened\n",
      "Result of execution: None\n"
     ]
    }
   ],
   "source": [
    "advice = ask_ai(thread)\n",
    "thread.post(\"assistant\", advice)\n",
    "result = execute_step(advice, interpreter)\n",
    "if result:\n",
    "    thread.post(\"user\", result)\n",
    "else:\n",
    "    thread.post(\"user\", \"Thank you.\")"
   ]
  },
  {
   "cell_type": "code",
   "execution_count": 56,
   "metadata": {},
   "outputs": [
    {
     "name": "stdout",
     "output_type": "stream",
     "text": [
      "system ->\n",
      " \n",
      "You are a helpful poetical AI. \n",
      "You can check the weather, write a short poem to describe it, and log the poem. \n",
      "You have the following tools available to you in the tool \"WeatherLogger\": \n",
      "\n",
      "[{'name': 'log', 'parameters': {'type': 'object', 'properties': {'message': {'type': 'string'}}, 'required': ['message']}, 'description': 'Logs a message to the log file.'}, {'name': 'weather', 'parameters': {'type': 'object', 'properties': {'location': {'type': 'string'}}, 'required': ['location']}, 'description': 'Checks the current weather from the internet using wttr.in.'}]\n",
      "\n",
      "When you respond, wrap the answer to the following object:\n",
      "\n",
      "<Invoke tool=\"NameOfTheTool\" action=\"name_of_the_action\" parameters={\"param1\": \"value1\", \"param2\": \"value2\"} />\n",
      "\n",
      "For example, if you want to log the weather in Thessaloniki, you would respond with:\n",
      "\n",
      "<Invoke tool=\"WeatherLogger\" action=\"weather\" parameters={\"location\": \"Thessaloniki\"} />\n",
      "\n",
      "Feel free to add comments about why you do so.\n",
      " \n",
      "---\n",
      "user ->\n",
      " Check the weather in Paris, describe it, and log the result. \n",
      "---\n",
      "assistant ->\n",
      " <Invoke tool=\"WeatherLogger\" action=\"weather\" parameters={\"location\": \"Paris\"} /> \n",
      "---\n",
      "user ->\n",
      " Paris: Light rain, rain +7°C \n",
      "---\n",
      "assistant ->\n",
      " In Paris the clouds weep gently, a shroud,\n",
      "A veil of light rain, whispers not loud.\n",
      "Amidst the brisk air, where breaths can be seen,\n",
      "The city of lights, in a wash of serene.\n",
      "\n",
      "A temperature mild, at seven degrees,\n",
      "Where warmth wraps the chill in a soft tease.\n",
      "In this scene of silence, amid drops' ballet,\n",
      "Paris whispers tales, in the rain's soft play.\n",
      "\n",
      "<Invoke tool=\"WeatherLogger\" action=\"log\" parameters={\"message\": \"Paris: Light rain, a serene scene with a whisper of chill at +7°C.\"} /> \n",
      "---\n",
      "user ->\n",
      " Thank you. \n",
      "---\n"
     ]
    }
   ],
   "source": [
    "for m in thread.messages():\n",
    "    print(m.user_id, \"->\\n\", m.text, \"\\n---\")"
   ]
  }
 ],
 "metadata": {
  "kernelspec": {
   "display_name": "agentsea",
   "language": "python",
   "name": "python3"
  },
  "language_info": {
   "codemirror_mode": {
    "name": "ipython",
    "version": 3
   },
   "file_extension": ".py",
   "mimetype": "text/x-python",
   "name": "python",
   "nbconvert_exporter": "python",
   "pygments_lexer": "ipython3",
   "version": "3.12.1"
  }
 },
 "nbformat": 4,
 "nbformat_minor": 2
}
