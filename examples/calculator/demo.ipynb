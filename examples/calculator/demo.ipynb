{
 "cells": [
  {
   "cell_type": "markdown",
   "id": "ff5caed7-c46b-4dbf-aa1d-ffbb1c830c12",
   "metadata": {},
   "source": [
    "# Demo of a Simple Calculator Agent\n",
    "\n",
    "In this notebook, we'll see how to write and use a very simple Calculator agent. It will support one operation: adding numbers based on text commands provided by the user. \n",
    "\n",
    "Let's start with various imports we need.\n"
   ]
  },
  {
   "cell_type": "code",
   "execution_count": 6,
   "id": "80f90f38-3d9c-47ed-b5a0-6948e0e502c3",
   "metadata": {},
   "outputs": [],
   "source": [
    "# Make a file `.env` and put your OPEN_AI_KEY there.\n",
    "\n",
    "import os\n",
    "from dotenv import load_dotenv\n",
    "load_dotenv()\n",
    "OPEN_AI_KEY = os.environ.get('OPEN_AI_KEY')"
   ]
  },
  {
   "cell_type": "code",
   "execution_count": 7,
   "id": "86677e89-f0ac-407e-9c41-13207b2576e8",
   "metadata": {},
   "outputs": [],
   "source": [
    "from toolfuse import Tool, action\n",
    "from rich import print\n",
    "from threadmem import RoleThread\n",
    "from litellm import completion\n",
    "from skillpacks.server.models import V1ActionSelection\n",
    "import json\n",
    "import logging\n",
    "from tenacity import before_sleep_log, retry, stop_after_attempt\n",
    "\n",
    "logging.basicConfig(level=logging.INFO)\n",
    "logger = logging.getLogger(__name__)\n"
   ]
  },
  {
   "cell_type": "markdown",
   "id": "47e04fdd-0856-4950-b0c7-8fa4ac9ea58b",
   "metadata": {},
   "source": [
    "Now, let's define the Calculator Tool. It's a simple implementation of the Tool class, with one method: add.\n",
    "\n",
    "Note that even though this calculator has only one method, typically a tool would have one more actions, potentially very complex ones."
   ]
  },
  {
   "cell_type": "code",
   "execution_count": 11,
   "id": "900ea137-1b3e-4a23-bb90-42a364f17cb7",
   "metadata": {},
   "outputs": [],
   "source": [
    "class Calculator(Tool):\n",
    "    def __init__(self):\n",
    "        super().__init__()\n",
    "\n",
    "    @action\n",
    "    def add(self, a: int, b: int) -> int:\n",
    "        return a + b"
   ]
  },
  {
   "cell_type": "markdown",
   "id": "e9202549-1975-4f7e-8d4d-f56e4e73940d",
   "metadata": {},
   "source": [
    "Now, let's define the Thinker class which manages the interaction between the LLM and the tool. It performs the following key functions:\n",
    "\n",
    "- Initializes the `Calculator` tool and a `RoleThread` for message threading\n",
    "- Retrieves the JSON schema of the tool, which outlines its available actions and parameters.\n",
    "- Crafts a system prompt that instructs the LLM on how to utilize the tool and format responses\n",
    "- The `ask` method in the `Thinker` class accepts and processes user request.\n",
    "- The `ask` method calls the `request` method to call the LLM, parse its response and then execute the action to get the final result for the user."
   ]
  },
  {
   "cell_type": "code",
   "execution_count": 9,
   "id": "4213db47-e959-4318-8fbf-c3b068bd2124",
   "metadata": {},
   "outputs": [],
   "source": [
    "class Thinker():\n",
    "    def __init__(self):\n",
    "        self.tool = Calculator()\n",
    "        self.thread = RoleThread()\n",
    "\n",
    "        # Then, we can see the JSON schema of the tool: \n",
    "        schema = self.tool.json_schema()\n",
    "        print(f\"Tool schema:\\n{schema}\")\n",
    "\n",
    "        # Now, to use the tool with an LLM, we need to give an LLM a few things:\n",
    "        # 1. The tool schema -- the list of tools an LLM can use\n",
    "        # 2. The response JSON schema -- the format of the response an LLM should give us\n",
    "        # 3. The task -- the specific task we want the LLM to perform\n",
    "\n",
    "        system_prompt = f\"\"\"\n",
    "        You are a helpful assistant able to perform complex mathematical operations. \n",
    "        You have access to the following tools: {schema}. \n",
    "        For each task that I send to you, you have to return your thoughts and the specific tool to use to solve it.\n",
    "        Please return your response in the following JSON format: {V1ActionSelection.model_json_schema()}\n",
    "        Please only return the JSON object without any additional text or formatting.\n",
    "        \"\"\"\n",
    "        self.thread.post(\"system\", system_prompt)\n",
    "\n",
    "    def ask(self, question: str) -> str:\n",
    "        thread_copy = self.thread.copy()\n",
    "        thread_copy, result = self.request(thread_copy, question)\n",
    "        self.thread = thread_copy\n",
    "        return result\n",
    "    \n",
    "    # We wrap the actual request in a retry decorator to handle incorrect response format. \n",
    "    # If we receive a response that is not in the correct format, the Exception will be raised and the request will be retried.\n",
    "    @retry(\n",
    "        stop=stop_after_attempt(5),\n",
    "        before_sleep=before_sleep_log(logger, logging.INFO),            \n",
    "    )\n",
    "    def request(self, thread: RoleThread, question: str) -> str:\n",
    "        thread.post(\"user\", question)\n",
    "\n",
    "        response = completion(model=\"gpt-4o\", messages=thread.to_openai())\n",
    "        print(f\"Raw response:\\n{response}\")\n",
    "\n",
    "        # At this point, we expect the response to be in the format of V1ActionSelection.json_schema()\n",
    "        # So we can just parse the response as a V1ActionSelection object\n",
    "\n",
    "        action_selection = V1ActionSelection(**json.loads(response.choices[0].message.content))\n",
    "        print(f\"Suggested action:\\n{action_selection}\")\n",
    "\n",
    "        # Now, when we have the action selection in JSON format, we use the tool to find and run this action\n",
    "\n",
    "        action_object = self.tool.find_action(action_selection.action.name)\n",
    "        print(f\"Action object:\\n{action_object}\")\n",
    "\n",
    "        result = self.tool.use(action_object, **action_selection.action.parameters)\n",
    "        print(f\"Action result:\\n{result}\")\n",
    "\n",
    "        return thread, result"
   ]
  },
  {
   "cell_type": "markdown",
   "id": "8c64f639-f7f7-48aa-b0e3-a450e6a73fd1",
   "metadata": {},
   "source": [
    "Now, you can use the tool.\n",
    "\n",
    "First, create an instance of the `Thinker` class.\n"
   ]
  },
  {
   "cell_type": "code",
   "execution_count": 15,
   "id": "8ef09191-2b9b-4338-b09e-463dcbc22e19",
   "metadata": {},
   "outputs": [
    {
     "data": {
      "text/html": [
       "<pre style=\"white-space:pre;overflow-x:auto;line-height:normal;font-family:Menlo,'DejaVu Sans Mono',consolas,'Courier New',monospace\">Tool schema:\n",
       "<span style=\"font-weight: bold\">[{</span><span style=\"color: #008000; text-decoration-color: #008000\">'name'</span>: <span style=\"color: #008000; text-decoration-color: #008000\">'add'</span>, <span style=\"color: #008000; text-decoration-color: #008000\">'parameters'</span>: <span style=\"font-weight: bold\">{</span><span style=\"color: #008000; text-decoration-color: #008000\">'type'</span>: <span style=\"color: #008000; text-decoration-color: #008000\">'object'</span>, <span style=\"color: #008000; text-decoration-color: #008000\">'properties'</span>: <span style=\"font-weight: bold\">{</span><span style=\"color: #008000; text-decoration-color: #008000\">'a'</span>: <span style=\"font-weight: bold\">{</span><span style=\"color: #008000; text-decoration-color: #008000\">'type'</span>: <span style=\"color: #008000; text-decoration-color: #008000\">'integer'</span><span style=\"font-weight: bold\">}</span>, <span style=\"color: #008000; text-decoration-color: #008000\">'b'</span>: <span style=\"font-weight: bold\">{</span><span style=\"color: #008000; text-decoration-color: #008000\">'type'</span>: \n",
       "<span style=\"color: #008000; text-decoration-color: #008000\">'integer'</span><span style=\"font-weight: bold\">}}</span>, <span style=\"color: #008000; text-decoration-color: #008000\">'required'</span>: <span style=\"font-weight: bold\">[</span><span style=\"color: #008000; text-decoration-color: #008000\">'a'</span>, <span style=\"color: #008000; text-decoration-color: #008000\">'b'</span><span style=\"font-weight: bold\">]}}]</span>\n",
       "</pre>\n"
      ],
      "text/plain": [
       "Tool schema:\n",
       "\u001b[1m[\u001b[0m\u001b[1m{\u001b[0m\u001b[32m'name'\u001b[0m: \u001b[32m'add'\u001b[0m, \u001b[32m'parameters'\u001b[0m: \u001b[1m{\u001b[0m\u001b[32m'type'\u001b[0m: \u001b[32m'object'\u001b[0m, \u001b[32m'properties'\u001b[0m: \u001b[1m{\u001b[0m\u001b[32m'a'\u001b[0m: \u001b[1m{\u001b[0m\u001b[32m'type'\u001b[0m: \u001b[32m'integer'\u001b[0m\u001b[1m}\u001b[0m, \u001b[32m'b'\u001b[0m: \u001b[1m{\u001b[0m\u001b[32m'type'\u001b[0m: \n",
       "\u001b[32m'integer'\u001b[0m\u001b[1m}\u001b[0m\u001b[1m}\u001b[0m, \u001b[32m'required'\u001b[0m: \u001b[1m[\u001b[0m\u001b[32m'a'\u001b[0m, \u001b[32m'b'\u001b[0m\u001b[1m]\u001b[0m\u001b[1m}\u001b[0m\u001b[1m}\u001b[0m\u001b[1m]\u001b[0m\n"
      ]
     },
     "metadata": {},
     "output_type": "display_data"
    }
   ],
   "source": [
    "thinker = Thinker()"
   ]
  },
  {
   "cell_type": "markdown",
   "id": "679c1148-bf19-4d9c-9ed6-7d6f66dc2424",
   "metadata": {},
   "source": [
    "Now, call the `ask` method with the user request.\n",
    "\n",
    "The `ask` method passes the tool schema to the LLM. The LLM parses the user request and returns the name of the method (`ad`) and the two numbers to be added.\n",
    "\n",
    "Then the method is executed to provide the final result to the user."
   ]
  },
  {
   "cell_type": "code",
   "execution_count": 16,
   "id": "1c42edf3-fdbb-4937-bb71-747ff628cd8a",
   "metadata": {},
   "outputs": [
    {
     "name": "stderr",
     "output_type": "stream",
     "text": [
      "INFO:httpx:HTTP Request: POST https://api.openai.com/v1/chat/completions \"HTTP/1.1 200 OK\"\n",
      "\u001b[92m16:49:06 - LiteLLM:INFO\u001b[0m: utils.py:3401 - Wrapper: Completed Call, calling success_handler\n",
      "INFO:LiteLLM:Wrapper: Completed Call, calling success_handler\n"
     ]
    },
    {
     "data": {
      "text/html": [
       "<pre style=\"white-space:pre;overflow-x:auto;line-height:normal;font-family:Menlo,'DejaVu Sans Mono',consolas,'Courier New',monospace\">Raw response:\n",
       "<span style=\"color: #800080; text-decoration-color: #800080; font-weight: bold\">ModelResponse</span><span style=\"font-weight: bold\">(</span><span style=\"color: #808000; text-decoration-color: #808000\">id</span>=<span style=\"color: #008000; text-decoration-color: #008000\">'chatcmpl-AJIaSsIGwEUPoL0STGN7NAJqkesp6'</span>, <span style=\"color: #808000; text-decoration-color: #808000\">choices</span>=<span style=\"font-weight: bold\">[</span><span style=\"color: #800080; text-decoration-color: #800080; font-weight: bold\">Choices</span><span style=\"font-weight: bold\">(</span><span style=\"color: #808000; text-decoration-color: #808000\">finish_reason</span>=<span style=\"color: #008000; text-decoration-color: #008000\">'stop'</span>, <span style=\"color: #808000; text-decoration-color: #808000\">index</span>=<span style=\"color: #008080; text-decoration-color: #008080; font-weight: bold\">0</span>, \n",
       "<span style=\"color: #808000; text-decoration-color: #808000\">message</span>=<span style=\"color: #800080; text-decoration-color: #800080; font-weight: bold\">Message</span><span style=\"font-weight: bold\">(</span><span style=\"color: #808000; text-decoration-color: #808000\">content</span>=<span style=\"color: #008000; text-decoration-color: #008000\">'{\\n    \"observation\": \"The task is to find the sum of two integers, 1234 and 8765.\",\\n    </span>\n",
       "<span style=\"color: #008000; text-decoration-color: #008000\">\"reason\": \"The appropriate action to take is to use the add tool, which is specifically designed to perform </span>\n",
       "<span style=\"color: #008000; text-decoration-color: #008000\">addition of two integers.\",\\n    \"action\": {\\n        \"name\": \"add\",\\n        \"parameters\": {\\n            \"a\": </span>\n",
       "<span style=\"color: #008000; text-decoration-color: #008000\">1234,\\n            \"b\": 8765\\n        }\\n    },\\n    \"expectation\": \"The sum of 1234 and 8765 should be </span>\n",
       "<span style=\"color: #008000; text-decoration-color: #008000\">returned.\"\\n}'</span>, <span style=\"color: #808000; text-decoration-color: #808000\">role</span>=<span style=\"color: #008000; text-decoration-color: #008000\">'assistant'</span><span style=\"font-weight: bold\">))]</span>, <span style=\"color: #808000; text-decoration-color: #808000\">created</span>=<span style=\"color: #008080; text-decoration-color: #008080; font-weight: bold\">1729163044</span>, <span style=\"color: #808000; text-decoration-color: #808000\">model</span>=<span style=\"color: #008000; text-decoration-color: #008000\">'gpt-4o-2024-08-06'</span>, <span style=\"color: #808000; text-decoration-color: #808000\">object</span>=<span style=\"color: #008000; text-decoration-color: #008000\">'chat.completion'</span>, \n",
       "<span style=\"color: #808000; text-decoration-color: #808000\">system_fingerprint</span>=<span style=\"color: #008000; text-decoration-color: #008000\">'fp_e5e4913e83'</span>, <span style=\"color: #808000; text-decoration-color: #808000\">usage</span>=<span style=\"color: #800080; text-decoration-color: #800080; font-weight: bold\">Usage</span><span style=\"font-weight: bold\">(</span><span style=\"color: #808000; text-decoration-color: #808000\">completion_tokens</span>=<span style=\"color: #008080; text-decoration-color: #008080; font-weight: bold\">112</span>, <span style=\"color: #808000; text-decoration-color: #808000\">prompt_tokens</span>=<span style=\"color: #008080; text-decoration-color: #008080; font-weight: bold\">445</span>, <span style=\"color: #808000; text-decoration-color: #808000\">total_tokens</span>=<span style=\"color: #008080; text-decoration-color: #008080; font-weight: bold\">557</span><span style=\"font-weight: bold\">))</span>\n",
       "</pre>\n"
      ],
      "text/plain": [
       "Raw response:\n",
       "\u001b[1;35mModelResponse\u001b[0m\u001b[1m(\u001b[0m\u001b[33mid\u001b[0m=\u001b[32m'chatcmpl-AJIaSsIGwEUPoL0STGN7NAJqkesp6'\u001b[0m, \u001b[33mchoices\u001b[0m=\u001b[1m[\u001b[0m\u001b[1;35mChoices\u001b[0m\u001b[1m(\u001b[0m\u001b[33mfinish_reason\u001b[0m=\u001b[32m'stop'\u001b[0m, \u001b[33mindex\u001b[0m=\u001b[1;36m0\u001b[0m, \n",
       "\u001b[33mmessage\u001b[0m=\u001b[1;35mMessage\u001b[0m\u001b[1m(\u001b[0m\u001b[33mcontent\u001b[0m=\u001b[32m'\u001b[0m\u001b[32m{\u001b[0m\u001b[32m\\n    \"observation\": \"The task is to find the sum of two integers, 1234 and 8765.\",\\n    \u001b[0m\n",
       "\u001b[32m\"reason\": \"The appropriate action to take is to use the add tool, which is specifically designed to perform \u001b[0m\n",
       "\u001b[32maddition of two integers.\",\\n    \"action\": \u001b[0m\u001b[32m{\u001b[0m\u001b[32m\\n        \"name\": \"add\",\\n        \"parameters\": \u001b[0m\u001b[32m{\u001b[0m\u001b[32m\\n            \"a\": \u001b[0m\n",
       "\u001b[32m1234,\\n            \"b\": 8765\\n        \u001b[0m\u001b[32m}\u001b[0m\u001b[32m\\n    \u001b[0m\u001b[32m}\u001b[0m\u001b[32m,\\n    \"expectation\": \"The sum of 1234 and 8765 should be \u001b[0m\n",
       "\u001b[32mreturned.\"\\n\u001b[0m\u001b[32m}\u001b[0m\u001b[32m'\u001b[0m, \u001b[33mrole\u001b[0m=\u001b[32m'assistant'\u001b[0m\u001b[1m)\u001b[0m\u001b[1m)\u001b[0m\u001b[1m]\u001b[0m, \u001b[33mcreated\u001b[0m=\u001b[1;36m1729163044\u001b[0m, \u001b[33mmodel\u001b[0m=\u001b[32m'gpt-4o-2024-08-06'\u001b[0m, \u001b[33mobject\u001b[0m=\u001b[32m'chat.completion'\u001b[0m, \n",
       "\u001b[33msystem_fingerprint\u001b[0m=\u001b[32m'fp_e5e4913e83'\u001b[0m, \u001b[33musage\u001b[0m=\u001b[1;35mUsage\u001b[0m\u001b[1m(\u001b[0m\u001b[33mcompletion_tokens\u001b[0m=\u001b[1;36m112\u001b[0m, \u001b[33mprompt_tokens\u001b[0m=\u001b[1;36m445\u001b[0m, \u001b[33mtotal_tokens\u001b[0m=\u001b[1;36m557\u001b[0m\u001b[1m)\u001b[0m\u001b[1m)\u001b[0m\n"
      ]
     },
     "metadata": {},
     "output_type": "display_data"
    },
    {
     "data": {
      "text/html": [
       "<pre style=\"white-space:pre;overflow-x:auto;line-height:normal;font-family:Menlo,'DejaVu Sans Mono',consolas,'Courier New',monospace\">Suggested action:\n",
       "<span style=\"color: #808000; text-decoration-color: #808000\">observation</span>=<span style=\"color: #008000; text-decoration-color: #008000\">'The task is to find the sum of two integers, 1234 and 8765.'</span> <span style=\"color: #808000; text-decoration-color: #808000\">reason</span>=<span style=\"color: #008000; text-decoration-color: #008000\">'The appropriate action to take is</span>\n",
       "<span style=\"color: #008000; text-decoration-color: #008000\">to use the add tool, which is specifically designed to perform addition of two integers.'</span> \n",
       "<span style=\"color: #808000; text-decoration-color: #808000\">action</span>=<span style=\"color: #800080; text-decoration-color: #800080; font-weight: bold\">V1Action</span><span style=\"font-weight: bold\">(</span><span style=\"color: #808000; text-decoration-color: #808000\">name</span>=<span style=\"color: #008000; text-decoration-color: #008000\">'add'</span>, <span style=\"color: #808000; text-decoration-color: #808000\">parameters</span>=<span style=\"font-weight: bold\">{</span><span style=\"color: #008000; text-decoration-color: #008000\">'a'</span>: <span style=\"color: #008080; text-decoration-color: #008080; font-weight: bold\">1234</span>, <span style=\"color: #008000; text-decoration-color: #008000\">'b'</span>: <span style=\"color: #008080; text-decoration-color: #008080; font-weight: bold\">8765</span><span style=\"font-weight: bold\">})</span> <span style=\"color: #808000; text-decoration-color: #808000\">expectation</span>=<span style=\"color: #008000; text-decoration-color: #008000\">'The sum of 1234 and 8765 should be </span>\n",
       "<span style=\"color: #008000; text-decoration-color: #008000\">returned.'</span>\n",
       "</pre>\n"
      ],
      "text/plain": [
       "Suggested action:\n",
       "\u001b[33mobservation\u001b[0m=\u001b[32m'The task is to find the sum of two integers, 1234 and 8765.'\u001b[0m \u001b[33mreason\u001b[0m=\u001b[32m'The appropriate action to take is\u001b[0m\n",
       "\u001b[32mto use the add tool, which is specifically designed to perform addition of two integers.'\u001b[0m \n",
       "\u001b[33maction\u001b[0m=\u001b[1;35mV1Action\u001b[0m\u001b[1m(\u001b[0m\u001b[33mname\u001b[0m=\u001b[32m'add'\u001b[0m, \u001b[33mparameters\u001b[0m=\u001b[1m{\u001b[0m\u001b[32m'a'\u001b[0m: \u001b[1;36m1234\u001b[0m, \u001b[32m'b'\u001b[0m: \u001b[1;36m8765\u001b[0m\u001b[1m}\u001b[0m\u001b[1m)\u001b[0m \u001b[33mexpectation\u001b[0m=\u001b[32m'The sum of 1234 and 8765 should be \u001b[0m\n",
       "\u001b[32mreturned.'\u001b[0m\n"
      ]
     },
     "metadata": {},
     "output_type": "display_data"
    },
    {
     "data": {
      "text/html": [
       "<pre style=\"white-space:pre;overflow-x:auto;line-height:normal;font-family:Menlo,'DejaVu Sans Mono',consolas,'Courier New',monospace\">Action object:\n",
       "<span style=\"font-weight: bold\">&lt;</span><span style=\"color: #ff00ff; text-decoration-color: #ff00ff; font-weight: bold\">toolfuse.base.Action</span><span style=\"color: #000000; text-decoration-color: #000000\"> object at </span><span style=\"color: #008080; text-decoration-color: #008080; font-weight: bold\">0x13154e190</span><span style=\"font-weight: bold\">&gt;</span>\n",
       "</pre>\n"
      ],
      "text/plain": [
       "Action object:\n",
       "\u001b[1m<\u001b[0m\u001b[1;95mtoolfuse.base.Action\u001b[0m\u001b[39m object at \u001b[0m\u001b[1;36m0x13154e190\u001b[0m\u001b[1m>\u001b[0m\n"
      ]
     },
     "metadata": {},
     "output_type": "display_data"
    },
    {
     "data": {
      "text/html": [
       "<pre style=\"white-space:pre;overflow-x:auto;line-height:normal;font-family:Menlo,'DejaVu Sans Mono',consolas,'Courier New',monospace\">Action result:\n",
       "<span style=\"color: #008080; text-decoration-color: #008080; font-weight: bold\">9999</span>\n",
       "</pre>\n"
      ],
      "text/plain": [
       "Action result:\n",
       "\u001b[1;36m9999\u001b[0m\n"
      ]
     },
     "metadata": {},
     "output_type": "display_data"
    },
    {
     "data": {
      "text/html": [
       "<pre style=\"white-space:pre;overflow-x:auto;line-height:normal;font-family:Menlo,'DejaVu Sans Mono',consolas,'Courier New',monospace\">Result <span style=\"color: #008080; text-decoration-color: #008080; font-weight: bold\">1</span>:\n",
       "<span style=\"color: #008080; text-decoration-color: #008080; font-weight: bold\">9999</span>\n",
       "</pre>\n"
      ],
      "text/plain": [
       "Result \u001b[1;36m1\u001b[0m:\n",
       "\u001b[1;36m9999\u001b[0m\n"
      ]
     },
     "metadata": {},
     "output_type": "display_data"
    }
   ],
   "source": [
    "result_1 = thinker.ask(\"What is 1234 + 8765?\")\n",
    "print(f\"Result 1:\\n{result_1}\")"
   ]
  },
  {
   "cell_type": "markdown",
   "id": "2c24af1a-ecd6-4a03-9607-113c45d33983",
   "metadata": {},
   "source": [
    "The LLM can also parse the user request when the input numbers provided as words."
   ]
  },
  {
   "cell_type": "code",
   "execution_count": 17,
   "id": "2fa6c4a4-d26b-473a-8626-eb06384b3fab",
   "metadata": {},
   "outputs": [
    {
     "name": "stderr",
     "output_type": "stream",
     "text": [
      "INFO:httpx:HTTP Request: POST https://api.openai.com/v1/chat/completions \"HTTP/1.1 200 OK\"\n",
      "\u001b[92m16:49:08 - LiteLLM:INFO\u001b[0m: utils.py:3401 - Wrapper: Completed Call, calling success_handler\n",
      "INFO:LiteLLM:Wrapper: Completed Call, calling success_handler\n"
     ]
    },
    {
     "data": {
      "text/html": [
       "<pre style=\"white-space:pre;overflow-x:auto;line-height:normal;font-family:Menlo,'DejaVu Sans Mono',consolas,'Courier New',monospace\">Raw response:\n",
       "<span style=\"color: #800080; text-decoration-color: #800080; font-weight: bold\">ModelResponse</span><span style=\"font-weight: bold\">(</span><span style=\"color: #808000; text-decoration-color: #808000\">id</span>=<span style=\"color: #008000; text-decoration-color: #008000\">'chatcmpl-AJIaVuCpU1A7MPqms1PgKBRii6Hmq'</span>, <span style=\"color: #808000; text-decoration-color: #808000\">choices</span>=<span style=\"font-weight: bold\">[</span><span style=\"color: #800080; text-decoration-color: #800080; font-weight: bold\">Choices</span><span style=\"font-weight: bold\">(</span><span style=\"color: #808000; text-decoration-color: #808000\">finish_reason</span>=<span style=\"color: #008000; text-decoration-color: #008000\">'stop'</span>, <span style=\"color: #808000; text-decoration-color: #808000\">index</span>=<span style=\"color: #008080; text-decoration-color: #008080; font-weight: bold\">0</span>, \n",
       "<span style=\"color: #808000; text-decoration-color: #808000\">message</span>=<span style=\"color: #800080; text-decoration-color: #800080; font-weight: bold\">Message</span><span style=\"font-weight: bold\">(</span><span style=\"color: #808000; text-decoration-color: #808000\">content</span>=<span style=\"color: #008000; text-decoration-color: #008000\">'{\"observation\":\"The question is asking for the sum of 2 and 7.\",\"reason\":\"To find the sum,</span>\n",
       "<span style=\"color: #008000; text-decoration-color: #008000\">I will use the addition tool with the given numbers 2 and 7 as </span>\n",
       "<span style=\"color: #008000; text-decoration-color: #008000\">inputs.\",\"action\":{\"name\":\"add\",\"parameters\":{\"a\":2,\"b\":7}},\"expectation\":\"The sum of 2 and 7, which is 9, should </span>\n",
       "<span style=\"color: #008000; text-decoration-color: #008000\">be returned.\"}'</span>, <span style=\"color: #808000; text-decoration-color: #808000\">role</span>=<span style=\"color: #008000; text-decoration-color: #008000\">'assistant'</span><span style=\"font-weight: bold\">))]</span>, <span style=\"color: #808000; text-decoration-color: #808000\">created</span>=<span style=\"color: #008080; text-decoration-color: #008080; font-weight: bold\">1729163047</span>, <span style=\"color: #808000; text-decoration-color: #808000\">model</span>=<span style=\"color: #008000; text-decoration-color: #008000\">'gpt-4o-2024-08-06'</span>, <span style=\"color: #808000; text-decoration-color: #808000\">object</span>=<span style=\"color: #008000; text-decoration-color: #008000\">'chat.completion'</span>, \n",
       "<span style=\"color: #808000; text-decoration-color: #808000\">system_fingerprint</span>=<span style=\"color: #008000; text-decoration-color: #008000\">'fp_e5e4913e83'</span>, <span style=\"color: #808000; text-decoration-color: #808000\">usage</span>=<span style=\"color: #800080; text-decoration-color: #800080; font-weight: bold\">Usage</span><span style=\"font-weight: bold\">(</span><span style=\"color: #808000; text-decoration-color: #808000\">completion_tokens</span>=<span style=\"color: #008080; text-decoration-color: #008080; font-weight: bold\">82</span>, <span style=\"color: #808000; text-decoration-color: #808000\">prompt_tokens</span>=<span style=\"color: #008080; text-decoration-color: #008080; font-weight: bold\">461</span>, <span style=\"color: #808000; text-decoration-color: #808000\">total_tokens</span>=<span style=\"color: #008080; text-decoration-color: #008080; font-weight: bold\">543</span><span style=\"font-weight: bold\">))</span>\n",
       "</pre>\n"
      ],
      "text/plain": [
       "Raw response:\n",
       "\u001b[1;35mModelResponse\u001b[0m\u001b[1m(\u001b[0m\u001b[33mid\u001b[0m=\u001b[32m'chatcmpl-AJIaVuCpU1A7MPqms1PgKBRii6Hmq'\u001b[0m, \u001b[33mchoices\u001b[0m=\u001b[1m[\u001b[0m\u001b[1;35mChoices\u001b[0m\u001b[1m(\u001b[0m\u001b[33mfinish_reason\u001b[0m=\u001b[32m'stop'\u001b[0m, \u001b[33mindex\u001b[0m=\u001b[1;36m0\u001b[0m, \n",
       "\u001b[33mmessage\u001b[0m=\u001b[1;35mMessage\u001b[0m\u001b[1m(\u001b[0m\u001b[33mcontent\u001b[0m=\u001b[32m'\u001b[0m\u001b[32m{\u001b[0m\u001b[32m\"observation\":\"The question is asking for the sum of 2 and 7.\",\"reason\":\"To find the sum,\u001b[0m\n",
       "\u001b[32mI will use the addition tool with the given numbers 2 and 7 as \u001b[0m\n",
       "\u001b[32minputs.\",\"action\":\u001b[0m\u001b[32m{\u001b[0m\u001b[32m\"name\":\"add\",\"parameters\":\u001b[0m\u001b[32m{\u001b[0m\u001b[32m\"a\":2,\"b\":7\u001b[0m\u001b[32m}\u001b[0m\u001b[32m}\u001b[0m\u001b[32m,\"expectation\":\"The sum of 2 and 7, which is 9, should \u001b[0m\n",
       "\u001b[32mbe returned.\"\u001b[0m\u001b[32m}\u001b[0m\u001b[32m'\u001b[0m, \u001b[33mrole\u001b[0m=\u001b[32m'assistant'\u001b[0m\u001b[1m)\u001b[0m\u001b[1m)\u001b[0m\u001b[1m]\u001b[0m, \u001b[33mcreated\u001b[0m=\u001b[1;36m1729163047\u001b[0m, \u001b[33mmodel\u001b[0m=\u001b[32m'gpt-4o-2024-08-06'\u001b[0m, \u001b[33mobject\u001b[0m=\u001b[32m'chat.completion'\u001b[0m, \n",
       "\u001b[33msystem_fingerprint\u001b[0m=\u001b[32m'fp_e5e4913e83'\u001b[0m, \u001b[33musage\u001b[0m=\u001b[1;35mUsage\u001b[0m\u001b[1m(\u001b[0m\u001b[33mcompletion_tokens\u001b[0m=\u001b[1;36m82\u001b[0m, \u001b[33mprompt_tokens\u001b[0m=\u001b[1;36m461\u001b[0m, \u001b[33mtotal_tokens\u001b[0m=\u001b[1;36m543\u001b[0m\u001b[1m)\u001b[0m\u001b[1m)\u001b[0m\n"
      ]
     },
     "metadata": {},
     "output_type": "display_data"
    },
    {
     "data": {
      "text/html": [
       "<pre style=\"white-space:pre;overflow-x:auto;line-height:normal;font-family:Menlo,'DejaVu Sans Mono',consolas,'Courier New',monospace\">Suggested action:\n",
       "<span style=\"color: #808000; text-decoration-color: #808000\">observation</span>=<span style=\"color: #008000; text-decoration-color: #008000\">'The question is asking for the sum of 2 and 7.'</span> <span style=\"color: #808000; text-decoration-color: #808000\">reason</span>=<span style=\"color: #008000; text-decoration-color: #008000\">'To find the sum, I will use the addition tool </span>\n",
       "<span style=\"color: #008000; text-decoration-color: #008000\">with the given numbers 2 and 7 as inputs.'</span> <span style=\"color: #808000; text-decoration-color: #808000\">action</span>=<span style=\"color: #800080; text-decoration-color: #800080; font-weight: bold\">V1Action</span><span style=\"font-weight: bold\">(</span><span style=\"color: #808000; text-decoration-color: #808000\">name</span>=<span style=\"color: #008000; text-decoration-color: #008000\">'add'</span>, <span style=\"color: #808000; text-decoration-color: #808000\">parameters</span>=<span style=\"font-weight: bold\">{</span><span style=\"color: #008000; text-decoration-color: #008000\">'a'</span>: <span style=\"color: #008080; text-decoration-color: #008080; font-weight: bold\">2</span>, <span style=\"color: #008000; text-decoration-color: #008000\">'b'</span>: <span style=\"color: #008080; text-decoration-color: #008080; font-weight: bold\">7</span><span style=\"font-weight: bold\">})</span> \n",
       "<span style=\"color: #808000; text-decoration-color: #808000\">expectation</span>=<span style=\"color: #008000; text-decoration-color: #008000\">'The sum of 2 and 7, which is 9, should be returned.'</span>\n",
       "</pre>\n"
      ],
      "text/plain": [
       "Suggested action:\n",
       "\u001b[33mobservation\u001b[0m=\u001b[32m'The question is asking for the sum of 2 and 7.'\u001b[0m \u001b[33mreason\u001b[0m=\u001b[32m'To find the sum, I will use the addition tool \u001b[0m\n",
       "\u001b[32mwith the given numbers 2 and 7 as inputs.'\u001b[0m \u001b[33maction\u001b[0m=\u001b[1;35mV1Action\u001b[0m\u001b[1m(\u001b[0m\u001b[33mname\u001b[0m=\u001b[32m'add'\u001b[0m, \u001b[33mparameters\u001b[0m=\u001b[1m{\u001b[0m\u001b[32m'a'\u001b[0m: \u001b[1;36m2\u001b[0m, \u001b[32m'b'\u001b[0m: \u001b[1;36m7\u001b[0m\u001b[1m}\u001b[0m\u001b[1m)\u001b[0m \n",
       "\u001b[33mexpectation\u001b[0m=\u001b[32m'The sum of 2 and 7, which is 9, should be returned.'\u001b[0m\n"
      ]
     },
     "metadata": {},
     "output_type": "display_data"
    },
    {
     "data": {
      "text/html": [
       "<pre style=\"white-space:pre;overflow-x:auto;line-height:normal;font-family:Menlo,'DejaVu Sans Mono',consolas,'Courier New',monospace\">Action object:\n",
       "<span style=\"font-weight: bold\">&lt;</span><span style=\"color: #ff00ff; text-decoration-color: #ff00ff; font-weight: bold\">toolfuse.base.Action</span><span style=\"color: #000000; text-decoration-color: #000000\"> object at </span><span style=\"color: #008080; text-decoration-color: #008080; font-weight: bold\">0x13154e190</span><span style=\"font-weight: bold\">&gt;</span>\n",
       "</pre>\n"
      ],
      "text/plain": [
       "Action object:\n",
       "\u001b[1m<\u001b[0m\u001b[1;95mtoolfuse.base.Action\u001b[0m\u001b[39m object at \u001b[0m\u001b[1;36m0x13154e190\u001b[0m\u001b[1m>\u001b[0m\n"
      ]
     },
     "metadata": {},
     "output_type": "display_data"
    },
    {
     "data": {
      "text/html": [
       "<pre style=\"white-space:pre;overflow-x:auto;line-height:normal;font-family:Menlo,'DejaVu Sans Mono',consolas,'Courier New',monospace\">Action result:\n",
       "<span style=\"color: #008080; text-decoration-color: #008080; font-weight: bold\">9</span>\n",
       "</pre>\n"
      ],
      "text/plain": [
       "Action result:\n",
       "\u001b[1;36m9\u001b[0m\n"
      ]
     },
     "metadata": {},
     "output_type": "display_data"
    },
    {
     "data": {
      "text/html": [
       "<pre style=\"white-space:pre;overflow-x:auto;line-height:normal;font-family:Menlo,'DejaVu Sans Mono',consolas,'Courier New',monospace\">Result <span style=\"color: #008080; text-decoration-color: #008080; font-weight: bold\">2</span>:\n",
       "<span style=\"color: #008080; text-decoration-color: #008080; font-weight: bold\">9</span>\n",
       "</pre>\n"
      ],
      "text/plain": [
       "Result \u001b[1;36m2\u001b[0m:\n",
       "\u001b[1;36m9\u001b[0m\n"
      ]
     },
     "metadata": {},
     "output_type": "display_data"
    }
   ],
   "source": [
    "result_2 = thinker.ask(\"How much do I get if I add two and seven?\")\n",
    "print(f\"Result 2:\\n{result_2}\")"
   ]
  }
 ],
 "metadata": {
  "kernelspec": {
   "display_name": "Python 3 (ipykernel)",
   "language": "python",
   "name": "python3"
  },
  "language_info": {
   "codemirror_mode": {
    "name": "ipython",
    "version": 3
   },
   "file_extension": ".py",
   "mimetype": "text/x-python",
   "name": "python",
   "nbconvert_exporter": "python",
   "pygments_lexer": "ipython3",
   "version": "3.11.5"
  }
 },
 "nbformat": 4,
 "nbformat_minor": 5
}
